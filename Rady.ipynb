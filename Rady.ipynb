{
 "cells": [
  {
   "cell_type": "markdown",
   "metadata": {},
   "source": [
    "# Číselné řady"
   ]
  },
  {
   "cell_type": "markdown",
   "metadata": {},
   "source": [
    "### Aritmetická řada"
   ]
  },
  {
   "cell_type": "code",
   "execution_count": 14,
   "metadata": {},
   "outputs": [
    {
     "data": {
      "text/plain": [
       "[1, 3, 5, 7, 9]"
      ]
     },
     "execution_count": 14,
     "metadata": {},
     "output_type": "execute_result"
    }
   ],
   "source": [
    "def arithmetic(initial, increment, count=5):\n",
    "    sequence=[initial]\n",
    "    for i in range(count - 1):\n",
    "        sequence.append(sequence[i] + increment)\n",
    "    return sequence\n",
    "\n",
    "arithmetic(1,2)"
   ]
  },
  {
   "cell_type": "code",
   "execution_count": 9,
   "metadata": {},
   "outputs": [
    {
     "data": {
      "text/plain": [
       "True"
      ]
     },
     "execution_count": 9,
     "metadata": {},
     "output_type": "execute_result"
    }
   ],
   "source": [
    "def is_arithmetic(sequence):\n",
    "    if len(sequence)<3:\n",
    "        return False\n",
    "    increment = sequence[1] - sequence[0]\n",
    "    test = arithmetic(sequence[0], increment, len(sequence))\n",
    "    return(test == sequence)\n",
    "\n",
    "is_arithmetic([2, 4, 6, 8, 10])"
   ]
  },
  {
   "cell_type": "code",
   "execution_count": 13,
   "metadata": {},
   "outputs": [
    {
     "data": {
      "text/plain": [
       "8"
      ]
     },
     "execution_count": 13,
     "metadata": {},
     "output_type": "execute_result"
    }
   ],
   "source": [
    "def next_arithmetic(sequence):\n",
    "    increment = sequence[1] - sequence[0]\n",
    "    return(sequence[-1] + increment)\n",
    "\n",
    "next_arithmetic([2,4,6])"
   ]
  },
  {
   "cell_type": "markdown",
   "metadata": {},
   "source": [
    "### Geometrická řada"
   ]
  },
  {
   "cell_type": "code",
   "execution_count": 20,
   "metadata": {},
   "outputs": [
    {
     "data": {
      "text/plain": [
       "[2, 4, 8, 16, 32]"
      ]
     },
     "execution_count": 20,
     "metadata": {},
     "output_type": "execute_result"
    }
   ],
   "source": [
    "def geometric(initial, ratio, count=5):\n",
    "    sequence=[initial]\n",
    "    for i in range(count - 1):\n",
    "        sequence.append(sequence[i] * ratio)\n",
    "    return sequence\n",
    "\n",
    "geometric(initial=2,ratio=2)"
   ]
  },
  {
   "cell_type": "code",
   "execution_count": 21,
   "metadata": {},
   "outputs": [
    {
     "data": {
      "text/plain": [
       "True"
      ]
     },
     "execution_count": 21,
     "metadata": {},
     "output_type": "execute_result"
    }
   ],
   "source": [
    "def is_geometric(sequence):\n",
    "    if len(sequence)<3:\n",
    "        return False\n",
    "    ratio = sequence[1] / sequence[0]\n",
    "    test = geometric(sequence[0], ratio, len(sequence))\n",
    "    return(test == sequence)\n",
    "\n",
    "is_geometric([2, 4, 8, 16])"
   ]
  },
  {
   "cell_type": "code",
   "execution_count": 39,
   "metadata": {},
   "outputs": [
    {
     "data": {
      "text/plain": [
       "12.0"
      ]
     },
     "execution_count": 39,
     "metadata": {},
     "output_type": "execute_result"
    }
   ],
   "source": [
    "def next_geometric(sequence):\n",
    "    ratio = sequence[1] / sequence[0]\n",
    "    return(sequence[-1] * ratio)\n",
    "\n",
    "next_geometric([2,4,6])"
   ]
  },
  {
   "cell_type": "markdown",
   "metadata": {},
   "source": [
    "## Fibonacci"
   ]
  },
  {
   "cell_type": "code",
   "execution_count": 30,
   "metadata": {},
   "outputs": [
    {
     "data": {
      "text/plain": [
       "[1, 2, 3, 5, 8]"
      ]
     },
     "execution_count": 30,
     "metadata": {},
     "output_type": "execute_result"
    }
   ],
   "source": [
    "def fibonacci(f0, f1, count=5):\n",
    "    sequence=[f0, f1]\n",
    "    for i in range(count - 2):\n",
    "        sequence.append(sequence[i] + sequence[i+1])\n",
    "    return sequence\n",
    "\n",
    "fibonacci(1,2)"
   ]
  },
  {
   "cell_type": "code",
   "execution_count": 36,
   "metadata": {},
   "outputs": [
    {
     "data": {
      "text/plain": [
       "True"
      ]
     },
     "execution_count": 36,
     "metadata": {},
     "output_type": "execute_result"
    }
   ],
   "source": [
    "def is_fibonacci(sequence):\n",
    "    if len(sequence)<3:\n",
    "        return False\n",
    "    test = fibonacci(sequence[0], sequence[1], len(sequence))\n",
    "    return(test == sequence)\n",
    "\n",
    "is_fibonacci([1, 2, 3, 5])"
   ]
  },
  {
   "cell_type": "code",
   "execution_count": 38,
   "metadata": {},
   "outputs": [
    {
     "data": {
      "text/plain": [
       "5"
      ]
     },
     "execution_count": 38,
     "metadata": {},
     "output_type": "execute_result"
    }
   ],
   "source": [
    "def next_fibonacci(sequence):\n",
    "    return(sequence[-2]+sequence[-1])\n",
    "\n",
    "next_fibonacci([1, 2, 3])"
   ]
  },
  {
   "cell_type": "markdown",
   "metadata": {},
   "source": [
    "# Test - rozšiř řadu"
   ]
  },
  {
   "cell_type": "code",
   "execution_count": 43,
   "metadata": {},
   "outputs": [
    {
     "name": "stdout",
     "output_type": "stream",
     "text": [
      "Fibonacciho řada\n",
      "[2, 3, 5, 8]\n"
     ]
    }
   ],
   "source": [
    "sequence = [2, 3, 5]\n",
    "\n",
    "if is_arithmetic(sequence):\n",
    "    print(\"Aritmetická řada\")\n",
    "    sequence.append(next_arithmetic(sequence))\n",
    "    print(sequence)\n",
    "elif is_geometric(sequence):\n",
    "    print(\"Geometrická řada\")\n",
    "    sequence.append(next_geometric(sequence))\n",
    "    print(sequence)\n",
    "elif is_fibonacci(sequence):\n",
    "    print(\"Fibonacciho řada\")\n",
    "    sequence.append(next_fibonacci(sequence))\n",
    "    print(sequence)\n",
    "else:\n",
    "    print(\"Nevím\")"
   ]
  }
 ],
 "metadata": {
  "kernelspec": {
   "display_name": "Python 3",
   "language": "python",
   "name": "python3"
  },
  "language_info": {
   "codemirror_mode": {
    "name": "ipython",
    "version": 3
   },
   "file_extension": ".py",
   "mimetype": "text/x-python",
   "name": "python",
   "nbconvert_exporter": "python",
   "pygments_lexer": "ipython3",
   "version": "3.7.4"
  }
 },
 "nbformat": 4,
 "nbformat_minor": 2
}
