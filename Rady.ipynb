{
 "cells": [
  {
   "cell_type": "markdown",
   "metadata": {},
   "source": [
    "# Číselné řady"
   ]
  },
  {
   "cell_type": "markdown",
   "metadata": {},
   "source": [
    "### Aritmetická řada"
   ]
  },
  {
   "cell_type": "code",
   "execution_count": 7,
   "metadata": {},
   "outputs": [
    {
     "data": {
      "text/plain": [
       "[1, 3, 5, 7, 9]"
      ]
     },
     "execution_count": 7,
     "metadata": {},
     "output_type": "execute_result"
    }
   ],
   "source": [
    "def arithmetic(difference, first=1, count=5):\n",
    "    sequence=[first]\n",
    "    for i in range(count - 1):\n",
    "        sequence.append(sequence[i] + difference)\n",
    "    return sequence\n",
    "\n",
    "arithmetic(2)"
   ]
  },
  {
   "cell_type": "code",
   "execution_count": 10,
   "metadata": {},
   "outputs": [
    {
     "data": {
      "text/plain": [
       "15"
      ]
     },
     "execution_count": 10,
     "metadata": {},
     "output_type": "execute_result"
    }
   ],
   "source": [
    "def next_arithmetic(sequence):\n",
    "    difference = sequence[1] - sequence[0]\n",
    "    return(sequence[0] + len(sequence) * difference)\n",
    "\n",
    "next_arithmetic([0,5,10])"
   ]
  },
  {
   "cell_type": "code",
   "execution_count": 9,
   "metadata": {},
   "outputs": [
    {
     "data": {
      "text/plain": [
       "True"
      ]
     },
     "execution_count": 9,
     "metadata": {},
     "output_type": "execute_result"
    }
   ],
   "source": [
    "def is_arithmetic(sequence):\n",
    "    if len(sequence)<3:\n",
    "        return False\n",
    "    difference = sequence[1] - sequence[0]\n",
    "    test = arithmetic(difference, sequence[0], len(sequence))\n",
    "    return(test == sequence)\n",
    "\n",
    "is_arithmetic([2, 4, 6, 8, 10])"
   ]
  },
  {
   "cell_type": "markdown",
   "metadata": {},
   "source": [
    "---\n",
    "\n",
    "### Geometrická řada"
   ]
  },
  {
   "cell_type": "code",
   "execution_count": 18,
   "metadata": {},
   "outputs": [
    {
     "data": {
      "text/plain": [
       "[2, 6, 18, 54, 162]"
      ]
     },
     "execution_count": 18,
     "metadata": {},
     "output_type": "execute_result"
    }
   ],
   "source": [
    "def geometric(quocient, first=2, count=5):\n",
    "    sequence=[first]\n",
    "    for i in range(count - 1):\n",
    "        sequence.append(sequence[i] * quocient)\n",
    "    return sequence\n",
    "\n",
    "geometric(first=2,quocient=3)"
   ]
  },
  {
   "cell_type": "code",
   "execution_count": 17,
   "metadata": {},
   "outputs": [
    {
     "data": {
      "text/plain": [
       "40.0"
      ]
     },
     "execution_count": 17,
     "metadata": {},
     "output_type": "execute_result"
    }
   ],
   "source": [
    "def next_geometric(sequence):\n",
    "    quocient = sequence[1] / sequence[0]\n",
    "    return(sequence[0] * quocient**len(sequence))\n",
    "\n",
    "next_geometric([5,10,20])"
   ]
  },
  {
   "cell_type": "code",
   "execution_count": 19,
   "metadata": {},
   "outputs": [
    {
     "data": {
      "text/plain": [
       "True"
      ]
     },
     "execution_count": 19,
     "metadata": {},
     "output_type": "execute_result"
    }
   ],
   "source": [
    "def is_geometric(sequence):\n",
    "    if len(sequence)<3:\n",
    "        return False\n",
    "    quocient = sequence[1] / sequence[0]\n",
    "    test = geometric(quocient, sequence[0], len(sequence))\n",
    "    return(test == sequence)\n",
    "\n",
    "is_geometric([2, 4, 8, 16])"
   ]
  },
  {
   "cell_type": "markdown",
   "metadata": {},
   "source": [
    "---\n",
    "\n",
    "### Fibonacci"
   ]
  },
  {
   "cell_type": "code",
   "execution_count": 23,
   "metadata": {},
   "outputs": [
    {
     "data": {
      "text/plain": [
       "[1, 2, 3, 5, 8]"
      ]
     },
     "execution_count": 23,
     "metadata": {},
     "output_type": "execute_result"
    }
   ],
   "source": [
    "def fibonacci(f0, f1, count=5):\n",
    "    sequence=[f0, f1]\n",
    "    for i in range(count - 2):\n",
    "        sequence.append(sequence[i] + sequence[i+1])\n",
    "    return sequence\n",
    "\n",
    "fibonacci(1,2)"
   ]
  },
  {
   "cell_type": "code",
   "execution_count": 22,
   "metadata": {},
   "outputs": [
    {
     "data": {
      "text/plain": [
       "2"
      ]
     },
     "execution_count": 22,
     "metadata": {},
     "output_type": "execute_result"
    }
   ],
   "source": [
    "def next_fibonacci(sequence):\n",
    "    return(sequence[-2]+sequence[-1])\n",
    "\n",
    "next_fibonacci([0, 1, 1])"
   ]
  },
  {
   "cell_type": "code",
   "execution_count": 24,
   "metadata": {},
   "outputs": [
    {
     "data": {
      "text/plain": [
       "True"
      ]
     },
     "execution_count": 24,
     "metadata": {},
     "output_type": "execute_result"
    }
   ],
   "source": [
    "def is_fibonacci(sequence):\n",
    "    if len(sequence)<3:\n",
    "        return False\n",
    "    test = fibonacci(sequence[0], sequence[1], len(sequence))\n",
    "    return(test == sequence)\n",
    "\n",
    "is_fibonacci([150, 10, 160, 170])"
   ]
  },
  {
   "cell_type": "markdown",
   "metadata": {},
   "source": [
    "---\n",
    "\n",
    "# Test - rozšiř řadu"
   ]
  },
  {
   "cell_type": "code",
   "execution_count": 26,
   "metadata": {},
   "outputs": [
    {
     "name": "stdout",
     "output_type": "stream",
     "text": [
      "Fibonacciho řada\n",
      "[2, 3, 5, 8, 13]\n"
     ]
    }
   ],
   "source": [
    "sequence = [2, 3, 5, 8]\n",
    "\n",
    "if is_arithmetic(sequence):\n",
    "    print(\"Aritmetická řada\")\n",
    "    sequence.append(next_arithmetic(sequence))\n",
    "    print(sequence)\n",
    "elif is_geometric(sequence):\n",
    "    print(\"Geometrická řada\")\n",
    "    sequence.append(next_geometric(sequence))\n",
    "    print(sequence)\n",
    "elif is_fibonacci(sequence):\n",
    "    print(\"Fibonacciho řada\")\n",
    "    sequence.append(next_fibonacci(sequence))\n",
    "    print(sequence)\n",
    "else:\n",
    "    print(\"Nevím\")"
   ]
  }
 ],
 "metadata": {
  "kernelspec": {
   "display_name": "Python 3",
   "language": "python",
   "name": "python3"
  },
  "language_info": {
   "codemirror_mode": {
    "name": "ipython",
    "version": 3
   },
   "file_extension": ".py",
   "mimetype": "text/x-python",
   "name": "python",
   "nbconvert_exporter": "python",
   "pygments_lexer": "ipython3",
   "version": "3.7.4"
  }
 },
 "nbformat": 4,
 "nbformat_minor": 2
}
